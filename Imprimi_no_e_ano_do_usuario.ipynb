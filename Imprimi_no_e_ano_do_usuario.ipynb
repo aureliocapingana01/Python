{
  "cells": [
    {
      "cell_type": "markdown",
      "metadata": {
        "id": "view-in-github",
        "colab_type": "text"
      },
      "source": [
        "<a href=\"https://colab.research.google.com/github/aureliocapingana01/Python/blob/main/Imprimi_no_e_ano_do_usuario.ipynb\" target=\"_parent\"><img src=\"https://colab.research.google.com/assets/colab-badge.svg\" alt=\"Open In Colab\"/></a>"
      ]
    },
    {
      "cell_type": "code",
      "source": [
        "import datetime\n",
        "\n",
        "currentDateTime = datetime.datetime.now()\n",
        "date = currentDateTime.date()\n",
        "ano = int(date.strftime(\"%Y\"))\n",
        "\n",
        "#Entrada dos dados:\n",
        "nomeCompleto = input('Digite seu nome completo: ')\n",
        "anoNascimento = int(input('Digite seu ano de nascimento: '))\n",
        "\n",
        "#Processamento:\n",
        "def infoUsuario(nomeCompleto, anoNascimento):\n",
        "  anoUsuario = False\n",
        "  while(True):\n",
        "    try:\n",
        "      if(anoNascimento > ano or anoNascimento < 1922):\n",
        "        print('\\n***********************************************\\n')\n",
        "        print(f'Digite um ano entre 1922 e {ano} ')\n",
        "        anoNascimento = int(input('Digite seu ano de nascimento: '))\n",
        "      elif(anoUsuario == True):\n",
        "        break\n",
        "      else:\n",
        "        anoUsuario = ano - anoNascimento\n",
        "        return anoUsuario\n",
        "    except:\n",
        "      print('Caracter Invalido, tente mas tarde')\n",
        "      \n",
        "#Saida dos dados:\n",
        "anoUsuario = infoUsuario(nomeCompleto, anoNascimento)\n",
        "print(f'{nomeCompleto} voce tem {anoUsuario} de idade ')\n",
        "\n",
        "\n",
        "\n",
        "\n",
        "# nomeCompleto = str(input('Nome Completo : '))\n",
        "# while(True):\n",
        "\n",
        "#   try:\n",
        "#     anoNascimento = int(input('Ano de Nascimento: '))\n",
        "#     idade = 2022 - anoNascimento\n",
        "#     if(anoNascimento < 1922 or anoNascimento > 2021):\n",
        "#       print(\"Insira um ano válido\")\n",
        "#     else:\n",
        "#       print(nomeCompleto,'sua idade é',idade,'anos')\n",
        "#       break\n",
        "      \n",
        "#   except:\n",
        "#     print('Não foi digitado número')"
      ],
      "metadata": {
        "id": "oA_FdK7amulM"
      },
      "execution_count": null,
      "outputs": []
    }
  ],
  "metadata": {
    "colab": {
      "toc_visible": true,
      "provenance": [],
      "include_colab_link": true
    },
    "kernelspec": {
      "display_name": "Python 3",
      "name": "python3"
    }
  },
  "nbformat": 4,
  "nbformat_minor": 0
}