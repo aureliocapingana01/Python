{
  "cells": [
    {
      "cell_type": "markdown",
      "metadata": {
        "id": "view-in-github",
        "colab_type": "text"
      },
      "source": [
        "<a href=\"https://colab.research.google.com/github/aureliocapingana01/Python/blob/main/Ol%C3%A1%2C_este_%C3%A9_o_Colaboratory.ipynb\" target=\"_parent\"><img src=\"https://colab.research.google.com/assets/colab-badge.svg\" alt=\"Open In Colab\"/></a>"
      ]
    },
    {
      "cell_type": "code",
      "source": [
        "numero1 = int(input('Digite o primeiro numero: '))\n",
        "numero2 = int(input('Digite o segundo numero: '))\n",
        "operador = int(input('Escolha um dos operadores: 1-soma, 2-subtracao, 3-mutiplicacao, 4-divisao'))\n",
        "\n",
        "def calculadora(numero1, numero2, operador):\n",
        "  if(operador == 1):\n",
        "    soma = numero1 + numero2\n",
        "    return soma\n",
        "\n",
        "  if(operador == 2):\n",
        "    subtracao = numero1 - numero2\n",
        "    return subtracao\n",
        "  \n",
        "  if(operador == 3):\n",
        "    multiplicacao = numero1 * numero2\n",
        "    return multiplicacao\n",
        "\n",
        "  if(operador == 4):\n",
        "    divisao = numero1 / numero2\n",
        "    return divisao\n",
        "\n",
        "  else:\n",
        "    return 'ERRO, escolha um dos operadores'\n",
        "\n",
        "\n",
        "\n",
        "resultado = calculadora(numero1, numero2, operador)\n",
        "print('O Resultado desta operação e: ',resultado)\n"
      ],
      "metadata": {
        "id": "MP471gnfUUYG"
      },
      "execution_count": null,
      "outputs": []
    }
  ],
  "metadata": {
    "colab": {
      "name": "Olá, este é o Colaboratory",
      "provenance": [],
      "include_colab_link": true
    },
    "kernelspec": {
      "display_name": "Python 3",
      "name": "python3"
    }
  },
  "nbformat": 4,
  "nbformat_minor": 0
}