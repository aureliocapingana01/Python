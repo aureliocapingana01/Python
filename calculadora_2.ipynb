{
  "cells": [
    {
      "cell_type": "markdown",
      "metadata": {
        "id": "view-in-github",
        "colab_type": "text"
      },
      "source": [
        "<a href=\"https://colab.research.google.com/github/aureliocapingana01/Python/blob/main/calculadora_2.ipynb\" target=\"_parent\"><img src=\"https://colab.research.google.com/assets/colab-badge.svg\" alt=\"Open In Colab\"/></a>"
      ]
    },
    {
      "cell_type": "code",
      "source": [
        "from IPython.lib.display import walk\n",
        "# Loop de uma calculadora:\n",
        "\n",
        "def calculaNumero(numero1, numero2, operador):\n",
        "\n",
        "  if(operador == 1):\n",
        "    res = numero1 + numero2\n",
        "    return res\n",
        "  \n",
        "  elif(operador == 2):\n",
        "    res = numero1 - numero2 \n",
        "    return res\n",
        "\n",
        "  elif(operador == 3):\n",
        "    res = numero1 * numero2 \n",
        "    return res\n",
        "    \n",
        "  elif(operador == 4):\n",
        "    if(numero1 != 0 and numero2 != 0):\n",
        "      res = numero1 / numero2\n",
        "    else:\n",
        "      res = ('Erro, digite um numero diferente de Zero')\n",
        "    return res\n",
        "\n",
        "  else:\n",
        "    res = ('Escolha uma das opcoes para operações matematica')\n",
        "    return res\n",
        "    \n",
        "#Entrada dos dados\n",
        "numero1 = int(input('Digite o primeiro numero: '))\n",
        "numero2 = int(input('Digite o segundo numero: '))\n",
        "operador = int(input('\\n1-Soma \\n2-Subtracação \\n3-Multiplicação \\n4-Divisão \\n'))\n",
        "opcao = int(input('Voce quer: \\n0-Sair \\n1-Continuar'))\n",
        "\n",
        "while(True):\n",
        "\n",
        "  if(opcao == 0 ): \n",
        "     numero1 = int(input('Digite o primeiro numero: '))\n",
        "     numero2 = int(input('Digite o segundo numero: '))\n",
        "     operador = int(input('\\n1-Soma \\n2-Subtracação \\n3-Multiplicação \\n4-Divisão \\n'))\n",
        "     opcao = int(input('Voce quer: \\n0-Sair \\n1-Continuar'))\n",
        "  else:\n",
        "    break\n",
        "\n",
        "res = calculaNumero(numero1, numero2, operador)\n",
        "print(\"\\n****************  RESULTADO DA OPERAÇÂO ******************** \\n\")\n",
        "print('\\nO Resultado desta operação é: ', res)"
      ],
      "metadata": {
        "id": "MP471gnfUUYG",
        "colab": {
          "base_uri": "https://localhost:8080/"
        },
        "outputId": "9d6b2334-8f3c-4fc4-f1c9-41868dbb9587"
      },
      "execution_count": 75,
      "outputs": [
        {
          "output_type": "stream",
          "name": "stdout",
          "text": [
            "Digite o primeiro numero: 5\n",
            "Digite o segundo numero: 5\n",
            "\n",
            "1-Soma \n",
            "2-Subtracação \n",
            "3-Multiplicação \n",
            "4-Divisão \n",
            "1\n",
            "Voce quer: \n",
            "0-Sair \n",
            "1-Continuar0\n",
            "Digite o primeiro numero: 5\n",
            "Digite o segundo numero: 5\n",
            "\n",
            "1-Soma \n",
            "2-Subtracação \n",
            "3-Multiplicação \n",
            "4-Divisão \n",
            "1\n",
            "Voce quer: \n",
            "0-Sair \n",
            "1-Continuar0\n",
            "Digite o primeiro numero: 5\n",
            "Digite o segundo numero: 5\n",
            "\n",
            "1-Soma \n",
            "2-Subtracação \n",
            "3-Multiplicação \n",
            "4-Divisão \n",
            "1\n",
            "Voce quer: \n",
            "0-Sair \n",
            "1-Continuar1\n",
            "\n",
            "****************  RESULTADO DA OPERAÇÂO ******************** \n",
            "\n",
            "\n",
            "O Resultado desta operação é:  10\n"
          ]
        }
      ]
    }
  ],
  "metadata": {
    "colab": {
      "provenance": [],
      "toc_visible": true,
      "include_colab_link": true
    },
    "kernelspec": {
      "display_name": "Python 3",
      "name": "python3"
    }
  },
  "nbformat": 4,
  "nbformat_minor": 0
}